{
 "cells": [
  {
   "cell_type": "markdown",
   "metadata": {},
   "source": [
    "# List Overlap \n",
    "Write a program that returns a list that contains only the elements that are common between the lists (without duplicates). Make sure your program works on two lists of different sizes."
   ]
  },
  {
   "cell_type": "code",
   "execution_count": 2,
   "metadata": {},
   "outputs": [
    {
     "name": "stdout",
     "output_type": "stream",
     "text": [
      "[1, 2, 3, 5, 8, 13]\n"
     ]
    }
   ],
   "source": [
    "a = [1, 1, 2, 3, 5, 8, 13, 21, 34, 55, 89]\n",
    "b = [1, 2, 3, 4, 5, 6, 7, 8, 9, 10, 11, 12, 13]\n",
    "\n",
    "common = list(set(a).intersection(b))\n",
    "print(common)\n"
   ]
  },
  {
   "cell_type": "markdown",
   "metadata": {},
   "source": [
    "# Rock Paper Scissors\n",
    "\n",
    "Make a two-player Rock-Paper-Scissors game. (Hint: Ask for player plays (using input), compare them, print out a message of congratulations to the winner.)\n",
    "\n",
    "Remember the rules:\n",
    "\n",
    "* Rock beats scissors\n",
    "* Scissors beats paper\n",
    "* Paper beats rock"
   ]
  },
  {
   "cell_type": "code",
   "execution_count": 33,
   "metadata": {},
   "outputs": [],
   "source": [
    "from enum import Enum\n",
    "\n",
    "\n",
    "\n",
    "class Choice(Enum):\n",
    "    SCISSORS = 1\n",
    "    ROCK = 2\n",
    "    PAPER =3\n",
    "\n",
    "winsDict={\n",
    "    Choice.SCISSORS: Choice.PAPER,\n",
    "    Choice.PAPER: Choice.ROCK,\n",
    "    Choice.ROCK: Choice.SCISSORS,\n",
    "}\n",
    "    \n",
    "class PlayerChoice():\n",
    "    # Selection by the players\n",
    "    def __init__(self, name, choice):\n",
    "        self.choice = Choice(int(choice))\n",
    "        self.name = name\n",
    "\n",
    "def isFirstPlayerWinner(player1, player2):\n",
    "    if(winsDict[player1.choice] == player2.choice):\n",
    "        return f\"{player1.name} is winner\"\n",
    "    return \"\"\n",
    "\n",
    "\n",
    "        \n",
    "        "
   ]
  },
  {
   "cell_type": "code",
   "execution_count": 35,
   "metadata": {},
   "outputs": [
    {
     "name": "stdout",
     "output_type": "stream",
     "text": [
      "Player 1 = Choose 1: Scissors,2: Paper, 3: Rock2\n",
      "Player 2 = Choose 1: Scissors,2: Paper, 3: Rock1\n",
      "Player 1 is winner\n"
     ]
    },
    {
     "data": {
      "text/plain": [
       "<__main__.Game at 0x267c5c47b80>"
      ]
     },
     "execution_count": 35,
     "metadata": {},
     "output_type": "execute_result"
    }
   ],
   "source": [
    "# Run this for the Game\n",
    "class Game():\n",
    "    def __init__(self):\n",
    "        player1Choice = input(\"Player 1 = Choose 1: Scissors,2: Paper, 3: Rock\")\n",
    "        player2Choice = input(\"Player 2 = Choose 1: Scissors,2: Paper, 3: Rock\")\n",
    "\n",
    "        player1 = PlayerChoice(\"Player 1\", player1Choice)\n",
    "        player2 = PlayerChoice(\"Player 2\", player2Choice)\n",
    "\n",
    "\n",
    "        message = isFirstPlayerWinner(player1, player2)\n",
    "        message += isFirstPlayerWinner(player2, player1)\n",
    "\n",
    "        if(message != \"\"):\n",
    "            print (message)\n",
    "        else:\n",
    "            print(\"Is a tie!! o.o\")\n",
    "        \n",
    "\n",
    "            \n",
    "Game()"
   ]
  },
  {
   "cell_type": "code",
   "execution_count": 32,
   "metadata": {},
   "outputs": [
    {
     "name": "stdout",
     "output_type": "stream",
     "text": [
      "Player 1 = Choose 1: Scissors,2: Paper, 3: Rock1\n",
      "Player 2 = Choose 1: Scissors,2: Paper, 3: Rock1\n",
      "Is a tie!! o.o\n"
     ]
    },
    {
     "data": {
      "text/plain": [
       "<__main__.Game at 0x267c5b75c40>"
      ]
     },
     "execution_count": 32,
     "metadata": {},
     "output_type": "execute_result"
    }
   ],
   "source": [
    "Game()"
   ]
  },
  {
   "cell_type": "code",
   "execution_count": 18,
   "metadata": {},
   "outputs": [
    {
     "name": "stdout",
     "output_type": "stream",
     "text": [
      "Choice.SCISSORS\n"
     ]
    }
   ],
   "source": [
    "print(Choice(1))"
   ]
  },
  {
   "cell_type": "code",
   "execution_count": 13,
   "metadata": {},
   "outputs": [
    {
     "name": "stdout",
     "output_type": "stream",
     "text": [
      "Choice.SCISSORS wins against Choice.PAPER\n",
      "Choice.ROCK wins against Choice.SCISSORS\n",
      "Choice.PAPER wins against Choice.ROCK\n"
     ]
    }
   ],
   "source": [
    "for choice in Choice:\n",
    "    print(choice, \"wins against\", winsDict[choice])"
   ]
  },
  {
   "cell_type": "markdown",
   "metadata": {},
   "source": [
    "# Palindrome \n",
    "\n",
    "Ask the user for a string and print out whether this string is a palindrome or not. (A palindrome is a string that reads the same forwards and backwards.)"
   ]
  },
  {
   "cell_type": "code",
   "execution_count": 43,
   "metadata": {},
   "outputs": [
    {
     "name": "stdout",
     "output_type": "stream",
     "text": [
      "False\n",
      "False\n",
      "True\n"
     ]
    }
   ],
   "source": [
    "def isPalindrome(stringIn):\n",
    "    return stringIn == stringIn[::-1]\n",
    "\n",
    "print(isPalindrome(\"hello\"))\n",
    "print(isPalindrome(\"cat\"))\n",
    "print(isPalindrome(\"catac\"))"
   ]
  },
  {
   "cell_type": "code",
   "execution_count": 45,
   "metadata": {},
   "outputs": [
    {
     "name": "stdout",
     "output_type": "stream",
     "text": [
      "Enter a stringmejem\n",
      "Is Palindrome! :)\n"
     ]
    }
   ],
   "source": [
    "word = input(\"Enter a string\")\n",
    "print(\"Is Palindrome! :)\" if isPalindrome(word) else \"Not Palindrome\" )"
   ]
  },
  {
   "cell_type": "markdown",
   "metadata": {},
   "source": [
    "# Password Generator\n",
    "Write a password generator in Python. Be creative with how you generate passwords - strong passwords have a mix of lowercase letters, uppercase letters, numbers, and symbols. The passwords should be random.  Ask the user to input how long they want their password to be. "
   ]
  },
  {
   "cell_type": "code",
   "execution_count": 51,
   "metadata": {},
   "outputs": [
    {
     "name": "stdout",
     "output_type": "stream",
     "text": [
      "k@\n",
      "uoexq0\n"
     ]
    }
   ],
   "source": [
    "\n",
    "import random, functools\n",
    "\n",
    "def generatePassword(length):\n",
    "    chars = \"abcdefghijklmnopqrstuvwxyz01234567890ABCDEFGHIJKLMNOPQRSTUVWXYZ!@#$%^&*()?\"\n",
    "    return functools.reduce( lambda x,y : x+y, [random.choice(chars) for x in range(length)])\n",
    "\n",
    "\n",
    "\n",
    "\n",
    "print(generatePassword(2))\n",
    "print(generatePassword(6))\n",
    "\n",
    "    "
   ]
  },
  {
   "cell_type": "code",
   "execution_count": 52,
   "metadata": {},
   "outputs": [
    {
     "name": "stdout",
     "output_type": "stream",
     "text": [
      "How long do you want your password to be?23\n",
      "Your password BaN2Ty?hay!SuHkHA8ofTHX\n"
     ]
    }
   ],
   "source": [
    "\n",
    "passlen = input(\"How long do you want your password to be?\")\n",
    "print(\"Your password\", generatePassword(int(passlen)))"
   ]
  },
  {
   "cell_type": "markdown",
   "metadata": {},
   "source": [
    "# Divisors Solutions\n",
    "\n",
    "Create a program that asks the user for a number and then prints out a list of all the divisors of that number. (If you don’t know what a divisor is, it is a number that divides evenly into another number. For example, 13 is a divisor of 26 because 26 / 13 has no remainder.)"
   ]
  },
  {
   "cell_type": "code",
   "execution_count": 61,
   "metadata": {},
   "outputs": [
    {
     "name": "stdout",
     "output_type": "stream",
     "text": [
      "[1, 2, 4, 5, 10, 20, 25, 50, 100]\n",
      "[1, 2, 4, 8, 16]\n",
      "[1, 3]\n",
      "[1, 2, 4]\n",
      "[1, 2, 4, 5, 10, 20]\n"
     ]
    }
   ],
   "source": [
    "def getDivisors(targetNum):\n",
    "    return list(filter(lambda x: targetNum%x == 0, [x for x in range(1, targetNum + 1)]))\n",
    "\n",
    "\n",
    "print(getDivisors(100))\n",
    "print(getDivisors(16))\n",
    "print(getDivisors(3))\n",
    "print(getDivisors(4))\n",
    "print(getDivisors(20))"
   ]
  },
  {
   "cell_type": "code",
   "execution_count": 63,
   "metadata": {},
   "outputs": [
    {
     "name": "stdout",
     "output_type": "stream",
     "text": [
      "Please enter your target divisor23\n",
      "Divisors for 23 are [1, 23]\n"
     ]
    }
   ],
   "source": [
    "targetNum = input(\"Please enter your target divisor\")\n",
    "print(\"Divisors for\", str(targetNum), \"are\", getDivisors(int(targetNum)))\n"
   ]
  },
  {
   "cell_type": "markdown",
   "metadata": {},
   "source": [
    "# Missing Character\n",
    "Given a non-empty string and an int n, return a new string where the char at index n has been removed. The value of n will be a valid index of a char in the original string (i.e. n will be in the range 0..len(str)-1 inclusive).\n",
    "\n",
    "```\n",
    "missing_char('kitten', 1) → 'ktten'\n",
    "missing_char('kitten', 0) → 'itten'\n",
    "missing_char('kitten', 4) → 'kittn'\n",
    "\n",
    "```"
   ]
  },
  {
   "cell_type": "code",
   "execution_count": 81,
   "metadata": {},
   "outputs": [
    {
     "data": {
      "text/plain": [
       "'hllo'"
      ]
     },
     "execution_count": 81,
     "metadata": {},
     "output_type": "execute_result"
    }
   ],
   "source": [
    "import functools\n",
    "\n",
    "# What have I become...\n",
    "\n",
    "def missing_char(word, n):\n",
    "    return( functools.reduce(lambda x, y: x+y, \n",
    "                            list(filter(lambda x: x!=word[n], word)) ))\n",
    "\n",
    "\n",
    "missing_char(\"hello\", 1)"
   ]
  },
  {
   "cell_type": "markdown",
   "metadata": {},
   "source": [
    "# Centered Average\n",
    "\n",
    "Return the \"centered\" average of an array of ints, which we'll say is the mean average of the values, except ignoring the largest and smallest values in the array. If there are multiple copies of the smallest value, ignore just one copy, and likewise for the largest value.  You may assume that the array is length 3 or more and will never contain negative values. \n",
    "* Round your answer to the nearest whole number.\n",
    "\n",
    "```\n",
    "centered_average([1, 2, 3, 4, 100]) → 3\n",
    "centered_average([1, 1, 5, 5, 10, 8, 7]) → 5\n",
    "```"
   ]
  },
  {
   "cell_type": "code",
   "execution_count": 13,
   "metadata": {},
   "outputs": [],
   "source": [
    "example_list = [100, 100, 50, 75, 50, 25, 25, 25]\n"
   ]
  },
  {
   "cell_type": "code",
   "execution_count": null,
   "metadata": {},
   "outputs": [],
   "source": []
  }
 ],
 "metadata": {
  "kernelspec": {
   "display_name": "Python 3",
   "language": "python",
   "name": "python3"
  },
  "language_info": {
   "codemirror_mode": {
    "name": "ipython",
    "version": 3
   },
   "file_extension": ".py",
   "mimetype": "text/x-python",
   "name": "python",
   "nbconvert_exporter": "python",
   "pygments_lexer": "ipython3",
   "version": "3.8.3"
  }
 },
 "nbformat": 4,
 "nbformat_minor": 4
}
